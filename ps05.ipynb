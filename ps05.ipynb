{
 "cells": [
  {
   "cell_type": "code",
   "execution_count": null,
   "metadata": {},
   "outputs": [],
   "source": [
    "## Gytis Gervickas Section C"
   ]
  },
  {
   "cell_type": "markdown",
   "metadata": {},
   "source": [
    "DS 256 Data Science Programming, Fall 2024\n",
    "\n",
    "Prof Eatai Roth\n",
    "\n",
    "## Problem Set 5\n",
    "Due 11/14/2024 by 8p"
   ]
  },
  {
   "cell_type": "markdown",
   "metadata": {},
   "source": [
    "## Titanic Pandas\n",
    "(sounds cute...is not)\n",
    "\n",
    "In this assignment, we'll explore the titanic training data set. These data represent a portion of the passenger manifest of the Titanic, detailing the passengers and whether or not they survived the fateful crash.\n",
    "\n",
    "The columns are mostly self-explanatory. Key to less-obvious columns:\n",
    " - Sex - male=1 / female=0 \n",
    " - Parch - number of parents/children traveling with\n",
    " - SibSp - numbers of siblings/spouses traveling with\n",
    " - PClass - ticket class (like first class, business, economy)\n",
    "\n",
    "\n",
    " To start, you should import packages, ```pandas``` (as pd) and ```matplotlib.pyplot``` (as plt). Then load the data from ```titanic_train_clean.csv``` into a pandas dataframe.\n",
    "\n",
    " Feel free to add more code blocks if needed. When making figures, don't forget to label axes and provide titles and legends when appropriate."
   ]
  },
  {
   "cell_type": "code",
   "execution_count": 8,
   "metadata": {},
   "outputs": [],
   "source": [
    "import pandas as pd\n",
    "\n",
    "file_path = \"titanic.csv\"  \n",
    "titanic_data = pd.read_csv(file_path)"
   ]
  },
  {
   "cell_type": "markdown",
   "metadata": {},
   "source": [
    "## Homework Problems\n",
    "\n",
    "For each of the problems, you'll write some code to find the answer. If there is a written/short answer component, use the provided text field."
   ]
  },
  {
   "cell_type": "markdown",
   "metadata": {},
   "source": [
    "### Problem 1\n",
    "\n",
    " - How many passengers are recorded in this log?\n",
    " - What percentage are male?\n",
    " - What percentage survived?\n",
    "\n",
    "Hint: You can find these three answers with a single command."
   ]
  },
  {
   "cell_type": "code",
   "execution_count": 13,
   "metadata": {},
   "outputs": [
    {
     "name": "stdout",
     "output_type": "stream",
     "text": [
      "Total passengers: 891\n",
      "Percentage male: 64.76%\n",
      "Percentage survived: 38.38%\n"
     ]
    }
   ],
   "source": [
    "# Total number of passengers\n",
    "total_passengers = len(titanic_data)\n",
    "\n",
    "# Percentage of passengers that are male\n",
    "percentage_male = (titanic_data['Sex'].value_counts(normalize=True)[1]) * 100\n",
    "\n",
    "# Percentage of passengers that survived\n",
    "percentage_survived = (titanic_data['Survived'].mean()) * 100\n",
    "\n",
    "# Display results\n",
    "print(f\"Total passengers: {total_passengers}\")\n",
    "print(f\"Percentage male: {percentage_male:.2f}%\")\n",
    "print(f\"Percentage survived: {percentage_survived:.2f}%\")\n"
   ]
  },
  {
   "cell_type": "markdown",
   "metadata": {},
   "source": [
    "Your written answer:\n",
    "\n",
    " - <Answer 1> 891\n",
    " - <Answer 2> 64.76%\n",
    " - <Answer 3> 38.38%"
   ]
  },
  {
   "cell_type": "markdown",
   "metadata": {},
   "source": [
    "### Problem 2:\n",
    "\n",
    " - What percentage of female passengers survived?\n",
    " - What percentage of male passengers survived?"
   ]
  },
  {
   "cell_type": "code",
   "execution_count": 19,
   "metadata": {},
   "outputs": [
    {
     "name": "stdout",
     "output_type": "stream",
     "text": [
      "Percentage of female passengers who survived: 74.20%\n",
      "Percentage of male passengers who survived: 18.89%\n"
     ]
    }
   ],
   "source": [
    "female_survival_rate = titanic_data[titanic_data['Sex'] == 0]['Survived'].mean() * 100\n",
    "\n",
    "male_survival_rate = titanic_data[titanic_data['Sex'] == 1]['Survived'].mean() * 100\n",
    "\n",
    "print(f\"Percentage of female passengers who survived: {female_survival_rate:.2f}%\")\n",
    "print(f\"Percentage of male passengers who survived: {male_survival_rate:.2f}%\")\n"
   ]
  },
  {
   "cell_type": "markdown",
   "metadata": {},
   "source": [
    "Your written answer:\n",
    "\n",
    " - <Answer 1> 74.20%\n",
    " - <Answer 2> 18.89%"
   ]
  },
  {
   "cell_type": "markdown",
   "metadata": {},
   "source": [
    "### Problem 3\n",
    "\n",
    "Use ```groupby``` and ```agg``` to find the percentage of the total tickets and the survivorship percentage for each class of ticket."
   ]
  },
  {
   "cell_type": "code",
   "execution_count": 24,
   "metadata": {},
   "outputs": [
    {
     "name": "stdout",
     "output_type": "stream",
     "text": [
      "        percent_tickets  percent_survived\n",
      "Pclass                                   \n",
      "1             24.242424         62.962963\n",
      "2             20.650954         47.282609\n",
      "3             55.106622         24.236253\n"
     ]
    }
   ],
   "source": [
    "total_passengers = len(titanic_data)\n",
    "\n",
    "class_analysis = titanic_data.groupby('Pclass').agg(\n",
    "    percent_tickets=('Pclass', lambda x: (len(x) / total_passengers) * 100),\n",
    "    percent_survived=('Survived', 'mean')\n",
    ")\n",
    "\n",
    "class_analysis['percent_survived'] = class_analysis['percent_survived'] * 100\n",
    "\n",
    "print(class_analysis)\n"
   ]
  },
  {
   "cell_type": "markdown",
   "metadata": {},
   "source": [
    "Your written answer:\n",
    "\n",
    " - Class 1 \n",
    "    - % tickets: 24.24\n",
    "    - % survivorship: 62.96\n",
    "- Class 2 \n",
    "    - % tickets: 20.65\n",
    "    - % survivorship: 47.28\n",
    "- Class 3\n",
    "    - % tickets: 55.11\n",
    "    - % survivorship: 24.24\n"
   ]
  },
  {
   "cell_type": "markdown",
   "metadata": {},
   "source": [
    "### Problem 4\n",
    "\n",
    "Create two new dataframes corresponding to survivors and non-survivors keeping only the columns: age, name, and sex. Display the first five rows of these new dataframes.\n",
    "\n",
    "Create a figure showing the distribution of age by sex and survivorship (four histograms on the same axes: male-survivors, female-survivors, male-unlucky, female-unlucky). Choose colors and histtype (see the [documentation for histogram](https://matplotlib.org/stable/api/_as_gen/matplotlib.pyplot.hist.html)) to make this figure easy to read and interpret."
   ]
  },
  {
   "cell_type": "code",
   "execution_count": 28,
   "metadata": {},
   "outputs": [
    {
     "name": "stdout",
     "output_type": "stream",
     "text": [
      "Survivors DataFrame:\n",
      "    Age                                               Name  Sex\n",
      "1  38.0  Cumings, Mrs. John Bradley (Florence Briggs Th...    0\n",
      "2  26.0                             Heikkinen, Miss. Laina    0\n",
      "3  35.0       Futrelle, Mrs. Jacques Heath (Lily May Peel)    0\n",
      "8  27.0  Johnson, Mrs. Oscar W (Elisabeth Vilhelmina Berg)    0\n",
      "9  14.0                Nasser, Mrs. Nicholas (Adele Achem)    0\n",
      "\n",
      "Non-Survivors DataFrame:\n",
      "    Age                            Name  Sex\n",
      "0  22.0         Braund, Mr. Owen Harris    1\n",
      "4  35.0        Allen, Mr. William Henry    1\n",
      "5  30.0                Moran, Mr. James    1\n",
      "6  54.0         McCarthy, Mr. Timothy J    1\n",
      "7   2.0  Palsson, Master. Gosta Leonard    1\n"
     ]
    },
    {
     "data": {
      "image/png": "[encoded data removed]",
      "text/plain": [
       "<Figure size 1000x600 with 1 Axes>"
      ]
     },
     "metadata": {},
     "output_type": "display_data"
    }
   ],
   "source": [
    "#Used GenAi for this problem 4 because I couldnt figure it out\n",
    "import matplotlib.pyplot as plt\n",
    "\n",
    "# Step 1: Create DataFrames for survivors and non-survivors\n",
    "survivors = titanic_data[titanic_data['Survived'] == 1][['Age', 'Name', 'Sex']]\n",
    "non_survivors = titanic_data[titanic_data['Survived'] == 0][['Age', 'Name', 'Sex']]\n",
    "\n",
    "# Display the first five rows of each DataFrame\n",
    "print(\"Survivors DataFrame:\")\n",
    "print(survivors.head())\n",
    "\n",
    "print(\"\\nNon-Survivors DataFrame:\")\n",
    "print(non_survivors.head())\n",
    "\n",
    "# Step 2: Create histograms for age distributions by sex and survival status\n",
    "plt.figure(figsize=(10, 6))\n",
    "\n",
    "# Male survivors\n",
    "plt.hist(\n",
    "    survivors[survivors['Sex'] == 1]['Age'].dropna(), \n",
    "    bins=20, \n",
    "    alpha=0.5, \n",
    "    label='Male Survivors', \n",
    "    histtype='step'\n",
    ")\n",
    "\n",
    "# Female survivors\n",
    "plt.hist(\n",
    "    survivors[survivors['Sex'] == 0]['Age'].dropna(), \n",
    "    bins=20, \n",
    "    alpha=0.5, \n",
    "    label='Female Survivors', \n",
    "    histtype='step'\n",
    ")\n",
    "\n",
    "# Male non-survivors\n",
    "plt.hist(\n",
    "    non_survivors[non_survivors['Sex'] == 1]['Age'].dropna(), \n",
    "    bins=20, \n",
    "    alpha=0.5, \n",
    "    label='Male Non-Survivors', \n",
    "    histtype='step'\n",
    ")\n",
    "\n",
    "# Female non-survivors\n",
    "plt.hist(\n",
    "    non_survivors[non_survivors['Sex'] == 0]['Age'].dropna(), \n",
    "    bins=20, \n",
    "    alpha=0.5, \n",
    "    label='Female Non-Survivors', \n",
    "    histtype='step'\n",
    ")\n",
    "\n",
    "# Step 3: Add labels, legend, and title\n",
    "plt.xlabel(\"Age\")\n",
    "plt.ylabel(\"Frequency\")\n",
    "plt.title(\"Age Distribution by Sex and Survival Status\")\n",
    "plt.legend()\n",
    "plt.show()\n"
   ]
  },
  {
   "cell_type": "markdown",
   "metadata": {},
   "source": [
    "### Problem 5\n",
    "\n",
    "Now that we've inspected the data, let's build a classifier (you'll compare two models) that predicts which passengers survived. These are the steps you should take:\n",
    "\n",
    " - Choose your features. The label will be survivorship.\n",
    " - Split the data into training and test sets.\n",
    " - Standardize the values using StandardScaler\n",
    " - Choose two of the following model types: KNN, SVM, Decision Tree. Create those models and select hyper-parameters.\n",
    " - Fit your models to the training data.\n",
    " - Apply the fit models to create predictions from the test data.\n",
    " - For each model, create a confusion matrix for the training and test data. You may want to revisit the hyper-parameters and re-fit the models.\n",
    "\n",
    " - Answer the questions at the bottom of the code block."
   ]
  },
  {
   "cell_type": "code",
   "execution_count": 31,
   "metadata": {},
   "outputs": [
    {
     "name": "stdout",
     "output_type": "stream",
     "text": [
      "KNN - Training Data\n",
      "[[402  42]\n",
      " [ 54 214]]\n",
      "              precision    recall  f1-score   support\n",
      "\n",
      "           0       0.88      0.91      0.89       444\n",
      "           1       0.84      0.80      0.82       268\n",
      "\n",
      "    accuracy                           0.87       712\n",
      "   macro avg       0.86      0.85      0.86       712\n",
      "weighted avg       0.86      0.87      0.86       712\n",
      "\n",
      "KNN - Test Data\n",
      "[[88 17]\n",
      " [17 57]]\n",
      "              precision    recall  f1-score   support\n",
      "\n",
      "           0       0.84      0.84      0.84       105\n",
      "           1       0.77      0.77      0.77        74\n",
      "\n",
      "    accuracy                           0.81       179\n",
      "   macro avg       0.80      0.80      0.80       179\n",
      "weighted avg       0.81      0.81      0.81       179\n",
      "\n",
      "Decision Tree - Training Data\n",
      "[[422  22]\n",
      " [ 79 189]]\n",
      "              precision    recall  f1-score   support\n",
      "\n",
      "           0       0.84      0.95      0.89       444\n",
      "           1       0.90      0.71      0.79       268\n",
      "\n",
      "    accuracy                           0.86       712\n",
      "   macro avg       0.87      0.83      0.84       712\n",
      "weighted avg       0.86      0.86      0.85       712\n",
      "\n",
      "Decision Tree - Test Data\n",
      "[[95 10]\n",
      " [23 51]]\n",
      "              precision    recall  f1-score   support\n",
      "\n",
      "           0       0.81      0.90      0.85       105\n",
      "           1       0.84      0.69      0.76        74\n",
      "\n",
      "    accuracy                           0.82       179\n",
      "   macro avg       0.82      0.80      0.80       179\n",
      "weighted avg       0.82      0.82      0.81       179\n",
      "\n"
     ]
    }
   ],
   "source": [
    "# Import required libraries\n",
    "import pandas as pd\n",
    "from sklearn.model_selection import train_test_split\n",
    "from sklearn.preprocessing import StandardScaler\n",
    "from sklearn.neighbors import KNeighborsClassifier\n",
    "from sklearn.svm import SVC\n",
    "from sklearn.tree import DecisionTreeClassifier\n",
    "from sklearn.metrics import confusion_matrix, classification_report\n",
    "\n",
    "# Load the dataset (ensure the dataset is preloaded into titanic_data)\n",
    "# Assuming `titanic_data` is already available in your session\n",
    "\n",
    "# Step 1: Choose features and label\n",
    "# Using 'Pclass', 'Sex', 'Age', 'SibSp', 'Parch', and 'Fare' as features\n",
    "# Drop rows with missing values for simplicity\n",
    "features = ['Pclass', 'Sex', 'Age', 'SibSp', 'Parch', 'Fare']\n",
    "titanic_data_cleaned = titanic_data.dropna(subset=features + ['Survived'])\n",
    "\n",
    "X = titanic_data_cleaned[features]\n",
    "y = titanic_data_cleaned['Survived']\n",
    "\n",
    "# Step 2: Split the data into training and test sets\n",
    "X_train, X_test, y_train, y_test = train_test_split(X, y, test_size=0.2, random_state=42)\n",
    "\n",
    "# Step 3: Standardize the values\n",
    "scaler = StandardScaler()\n",
    "X_train = scaler.fit_transform(X_train)\n",
    "X_test = scaler.transform(X_test)\n",
    "\n",
    "# Step 4: Choose two models (KNN and Decision Tree in this example)\n",
    "# Initialize models with some default hyperparameters\n",
    "knn_model = KNeighborsClassifier(n_neighbors=5)\n",
    "decision_tree_model = DecisionTreeClassifier(max_depth=5, random_state=42)\n",
    "\n",
    "# Step 5: Fit models to the training data\n",
    "knn_model.fit(X_train, y_train)\n",
    "decision_tree_model.fit(X_train, y_train)\n",
    "\n",
    "# Step 6: Create predictions\n",
    "knn_predictions_train = knn_model.predict(X_train)\n",
    "knn_predictions_test = knn_model.predict(X_test)\n",
    "\n",
    "dt_predictions_train = decision_tree_model.predict(X_train)\n",
    "dt_predictions_test = decision_tree_model.predict(X_test)\n",
    "\n",
    "# Step 7: Create confusion matrices and classification reports\n",
    "print(\"KNN - Training Data\")\n",
    "print(confusion_matrix(y_train, knn_predictions_train))\n",
    "print(classification_report(y_train, knn_predictions_train))\n",
    "\n",
    "print(\"KNN - Test Data\")\n",
    "print(confusion_matrix(y_test, knn_predictions_test))\n",
    "print(classification_report(y_test, knn_predictions_test))\n",
    "\n",
    "print(\"Decision Tree - Training Data\")\n",
    "print(confusion_matrix(y_train, dt_predictions_train))\n",
    "print(classification_report(y_train, dt_predictions_train))\n",
    "\n",
    "print(\"Decision Tree - Test Data\")\n",
    "print(confusion_matrix(y_test, dt_predictions_test))\n",
    "print(classification_report(y_test, dt_predictions_test))\n"
   ]
  },
  {
   "cell_type": "markdown",
   "metadata": {},
   "source": [
    "#### **Questions**\n",
    "\n",
    "How does the model performance on the test data compare to the performance on the training data? \n",
    " \n",
    " - \n",
    "\n",
    "\n",
    "Which models did you fit and which worked better?\n",
    " \n",
    " - "
   ]
  },
  {
   "cell_type": "code",
   "execution_count": null,
   "metadata": {},
   "outputs": [],
   "source": []
  }
 ],
 "metadata": {
  "kernelspec": {
   "display_name": "Python 3 (ipykernel)",
   "language": "python",
   "name": "python3"
  },
  "language_info": {
   "codemirror_mode": {
    "name": "ipython",
    "version": 3
   },
   "file_extension": ".py",
   "mimetype": "text/x-python",
   "name": "python",
   "nbconvert_exporter": "python",
   "pygments_lexer": "ipython3",
   "version": "3.12.4"
  }
 },
 "nbformat": 4,
 "nbformat_minor": 4
}
